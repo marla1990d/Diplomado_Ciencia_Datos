{
 "cells": [
  {
   "cell_type": "markdown",
   "id": "f4acec28",
   "metadata": {},
   "source": [
    "<figure>\n",
    "<img src=\"https://www.gaceta.unam.mx/wp-content/uploads/2020/08/200820-aca1-des-f1-Ciencia-de-Datos.jpg\"  width=\"150\" height=\"150\" align=\"left\"/> \n",
    "</figure>\n",
    "\n",
    "# <span style=\"color:blue\"><center>Ciencia de datos</center></span>"
   ]
  },
  {
   "cell_type": "markdown",
   "id": "46d9f901",
   "metadata": {},
   "source": [
    "##   <span style=\"color:black\">Presentación a cargo de</span>"
   ]
  },
  {
   "cell_type": "markdown",
   "id": "5dd557c6",
   "metadata": {},
   "source": [
    "### <span style=\"color:#3BB700\">Marla Diaz, Consultora SAP</span>\n"
   ]
  },
  {
   "cell_type": "markdown",
   "id": "58f7b989",
   "metadata": {},
   "source": [
    "<span style=\"color:black\">\n",
    " <pre>* Consultora SAP en Business Object, Hana database, Sac Analytics Cloud\n",
    "* Ingeniería de sistemas certificada en BO, HANA, LUMIRA y WEBI en SAP\n",
    "* Desarrollado proyectos de business intelligence, planeación, modelamiento de datos </pre></span>\n",
    "\n",
    "<center>\n",
    "    \n",
    "<figure>\n",
    "<img src=\"./Imagenes/Python.png\"  width=\"200\" height=\"300\"/> \n",
    "</figure>\n",
    "    \n",
    "</center>"
   ]
  },
  {
   "cell_type": "markdown",
   "id": "88ebce34",
   "metadata": {},
   "source": [
    "## <span style=\"color:blue\">¿Qué es la ciencia de datos?</span>"
   ]
  },
  {
   "cell_type": "markdown",
   "id": "b25f35cc",
   "metadata": {},
   "source": [
    "La ciencia de datos es el estudio de datos con el fin de extraer información significativa para empresas. Es un enfoque multidisciplinario que combina principios y prácticas del campo de las matemáticas, la estadística, la inteligencia artificial y la ingeniería de computación para analizar grandes cantidades de datos."
   ]
  },
  {
   "cell_type": "markdown",
   "id": "84e06932",
   "metadata": {},
   "source": [
    "### <span style=\"color:#4CC9F0\">Promedio de datos</span>"
   ]
  },
  {
   "cell_type": "markdown",
   "id": "4b91cc25",
   "metadata": {},
   "source": [
    "Promedio y media son los dos términos que se utilizan regularmente de manera inversa. Esto desorganiza mucho, ya que el significado esencial de los dos términos es casi equivalente. Esta entrada de blog intenta revelar lo que hace que no sean exactamente iguales entre sí.\n",
    "\n",
    "Insights nos da algunas medidas para captar la inclinación focal de la información. Estas medidas son Media, Mediana y Modo.\n",
    "\n",
    "La media es la cuestión principal de la disposición de las cualidades. Es la normalidad de los focos de información presentes en el conjunto de datos.\n",
    "\n",
    "Para localizar la media, incluya cada uno de los entonces focos de datos y aíslelos por el número completo de focos de información. "
   ]
  },
  {
   "cell_type": "markdown",
   "id": "d753a3d4",
   "metadata": {},
   "source": [
    "### <span style=\"color:#4CC9F0\">Ejemplo de la medida geométrica</span>"
   ]
  },
  {
   "cell_type": "markdown",
   "id": "826f3de5",
   "metadata": {},
   "source": [
    "Media geométrica: Es como la media de los números, sin embargo, en lugar de incluir los números, aumentamos los números y tomamos la raíz cuadrada si se producen 2 números, la raíz cuadrada tridimensional en el caso de 3 números, etc. "
   ]
  },
  {
   "cell_type": "markdown",
   "id": "eb48ee16",
   "metadata": {},
   "source": [
    " $$ G = \\sqrt[n]{a_1\\times a_2\\times\\cdots\\times a_n}$$"
   ]
  },
  {
   "cell_type": "markdown",
   "id": "ed7bcd17",
   "metadata": {},
   "source": [
    "Referencia [Promedio y media](https://datascience.eu/es/matematica-y-estadistica/promedio-y-media/.)."
   ]
  }
 ],
 "metadata": {
  "kernelspec": {
   "display_name": "Python 3 (ipykernel)",
   "language": "python",
   "name": "python3"
  },
  "language_info": {
   "codemirror_mode": {
    "name": "ipython",
    "version": 3
   },
   "file_extension": ".py",
   "mimetype": "text/x-python",
   "name": "python",
   "nbconvert_exporter": "python",
   "pygments_lexer": "ipython3",
   "version": "3.8.13"
  }
 },
 "nbformat": 4,
 "nbformat_minor": 5
}
