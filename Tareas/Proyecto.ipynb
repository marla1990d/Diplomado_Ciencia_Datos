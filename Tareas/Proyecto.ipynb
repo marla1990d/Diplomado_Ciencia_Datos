{
 "cells": [
  {
   "cell_type": "markdown",
   "metadata": {},
   "source": [
    "# <span style=\"color:red\"><center>Modelo de estadística descriptiva en los niveles de obesidad </center></span>"
   ]
  },
  {
   "cell_type": "markdown",
   "metadata": {},
   "source": [
    "### <span style=\"color:black\">Propuesta del proyecto</span>"
   ]
  },
  {
   "cell_type": "markdown",
   "metadata": {},
   "source": [
    "El proyecto consiste en realizar una clasificación y evaluación de los niveles de obesidad y diversos comportamientos que ocasionan que el IMC (Indice de masa corporal) no sea el adecuado teniendo en cuenta las variables como los hábitos alimenticios y características físicas. Esto con el fin de identificar los componentes principales que conllevan que una persona no esté dentro de su peso ideal."
   ]
  },
  {
   "cell_type": "markdown",
   "metadata": {},
   "source": [
    "### <span style=\"color:black\">Asesor principal</span>"
   ]
  },
  {
   "cell_type": "markdown",
   "metadata": {},
   "source": [
    "Profesor Campo Elias"
   ]
  },
  {
   "cell_type": "markdown",
   "metadata": {},
   "source": [
    "### <span style=\"color:black\">Introducción</span>"
   ]
  },
  {
   "cell_type": "markdown",
   "metadata": {},
   "source": [
    "En la actualidad se ha evidenciado un incremento en opciones poco saludables para lograr el peso ideal, lo cual ha generado que las personas tomen riesgos innecesarios que pueden desencadenar en problemas emocionales y desórdenes alimenticios, es así que la mejor alternativa es evaluar los hábitos de cada persona de acuerdo a características que evalúa un nutricionista, con el fin de identificar la mejor opción para cada persona."
   ]
  },
  {
   "cell_type": "markdown",
   "metadata": {},
   "source": [
    "### <span style=\"color:black\">Descripción del problema</span>"
   ]
  },
  {
   "cell_type": "markdown",
   "metadata": {},
   "source": [
    "Determinar las causas que generan que una persona genere obesidad, sobrepeso y bajo peso, evaluando 17 atributos como lo son (Consumo frecuente de alimentos hipercalóricos, Frecuencia de consumo de vegetales, Número de comidas principales, Consumo de alimentos entre comidas, Consumo de agua diario, Consumo de alcohol, Monitoreo del consumo de calorías, Frecuencia de actividad física, Tiempo de uso de dispositivos tecnológicos, Transporte utilizado, edad, peso, estatura y antecedentes familiares con sobrepeso)."
   ]
  },
  {
   "cell_type": "markdown",
   "metadata": {},
   "source": [
    "### <span style=\"color:black\">Fuentes de datos</span>"
   ]
  },
  {
   "cell_type": "markdown",
   "metadata": {},
   "source": [
    "Referencia [Estadística descriptiva multivariada](http://ciencias.bogota.unal.edu.co/fileadmin/Facultad_de_Ciencias/Publicaciones/Imagenes/Portadas_Libros/Estadistica/Estadistica_descriptiva_multivariada/libroEstadisiticaDescriptivaMultivariadaDigital.pdf)."
   ]
  },
  {
   "cell_type": "markdown",
   "metadata": {},
   "source": [
    "### <span style=\"color:black\">Procesamiento ETL</span>"
   ]
  },
  {
   "cell_type": "markdown",
   "metadata": {},
   "source": [
    "<i><span style= \"color:blue\">Extracción:</span></i> <p>La base de datos es un archivo excel de 2111 registros y 17 atributos.</p>\n",
    "\n",
    "<i><span style= \"color:blue\">Transformación:</span></i> <p> Se realizara mediante transformación de variables cualitativas y codificación en clases de variables continuas.</p>\n",
    "\n",
    "<i><span style= \"color:blue\">Carga:</span></i> <p> Mediante R realizare la carga de los datos para su codificación."
   ]
  },
  {
   "cell_type": "markdown",
   "metadata": {},
   "source": [
    "### <span style=\"color:black\">Exploración de los datos</span>"
   ]
  },
  {
   "cell_type": "markdown",
   "metadata": {},
   "source": [
    "Mediante ACP normado con las funciones de los paquetes ade4 y FactoClass, para la selección de los datos, prueba de correlación y grafico e coeficientes de correlación."
   ]
  },
  {
   "cell_type": "markdown",
   "metadata": {},
   "source": [
    "### <span style=\"color:black\">Técnicas de modelación propuestas</span>"
   ]
  },
  {
   "cell_type": "markdown",
   "metadata": {},
   "source": [
    "<ul>\n",
    "<li> Manejo de los métodos de la estadística descriptiva multivariada en relación a los dos tipos: factoriales y clasificación.</li><li>Se manejaran las variables activas para la construcción de ejes factoriales y clases.</li> <li> Una de las actividades es clasificar los datos en cuatro categorías (sobrepeso, bajo de peso, obesidad y normal).</li> <li>Clasificar las 17 variables por temas para llevar acabo  estadistica descriptica multivariada, correspondencia con las variables cualitivas para definir componentes principales y por último unir los temas para realizar análisis factorial. </li> \n",
    "    </ul>"
   ]
  },
  {
   "cell_type": "markdown",
   "metadata": {},
   "source": [
    "### <span style=\"color:black\">Conocimientos requeridos para el desarrollo del proyecto</span>"
   ]
  },
  {
   "cell_type": "markdown",
   "metadata": {},
   "source": [
    "<ul>\n",
    "<p>Para el proyecto es necesario tener conocimientos:</p> <li> Estadistíca multivariada ( desviación estandar y correlación entre otros)</li>  <li>Manejo de R.</li>\n",
    "    </ul>"
   ]
  },
  {
   "cell_type": "markdown",
   "metadata": {},
   "source": [
    "### <span style=\"color:black\">Resultados esperados</span>"
   ]
  },
  {
   "cell_type": "markdown",
   "metadata": {},
   "source": [
    "Un modelo que nos ayude a predecir e identificar los comportamientos que conllevan aumentar el grado de exceso del peso. "
   ]
  }
 ],
 "metadata": {
  "kernelspec": {
   "display_name": "Python 3",
   "language": "python",
   "name": "python3"
  },
  "language_info": {
   "codemirror_mode": {
    "name": "ipython",
    "version": 3
   },
   "file_extension": ".py",
   "mimetype": "text/x-python",
   "name": "python",
   "nbconvert_exporter": "python",
   "pygments_lexer": "ipython3",
   "version": "3.8.3"
  }
 },
 "nbformat": 4,
 "nbformat_minor": 5
}
