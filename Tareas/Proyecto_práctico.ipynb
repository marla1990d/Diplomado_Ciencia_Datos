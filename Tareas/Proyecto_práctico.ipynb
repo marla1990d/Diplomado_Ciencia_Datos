{
 "cells": [
  {
   "cell_type": "code",
   "execution_count": 1,
   "id": "a207efce",
   "metadata": {},
   "outputs": [],
   "source": [
    "Obesity <- read.csv(file = 'C:\\\\Users\\\\marla\\\\Documents\\\\Proyecto R\\\\Obesity.csv')"
   ]
  },
  {
   "cell_type": "code",
   "execution_count": 2,
   "id": "c7131fcf",
   "metadata": {},
   "outputs": [
    {
     "data": {
      "text/html": [
       "<table>\n",
       "<thead><tr><th scope=col>Gender</th><th scope=col>Age</th><th scope=col>Height</th><th scope=col>Weight</th><th scope=col>family_history_with_overweight</th><th scope=col>FAVC</th><th scope=col>FCVC</th><th scope=col>NCP</th><th scope=col>CAEC</th><th scope=col>SMOKE</th><th scope=col>CH2O</th><th scope=col>SCC</th><th scope=col>FAF</th><th scope=col>TUE</th><th scope=col>CALC</th><th scope=col>MTRANS</th><th scope=col>NObeyesdad</th></tr></thead>\n",
       "<tbody>\n",
       "\t<tr><td>Female               </td><td>21                   </td><td>1.62                 </td><td>64.0                 </td><td>yes                  </td><td>no                   </td><td>2                    </td><td>3                    </td><td>Sometimes            </td><td>no                   </td><td>2                    </td><td>no                   </td><td>0                    </td><td>1                    </td><td>no                   </td><td>Public_Transportation</td><td>Normal_Weight        </td></tr>\n",
       "\t<tr><td>Female               </td><td>21                   </td><td>1.52                 </td><td>56.0                 </td><td>yes                  </td><td>no                   </td><td>3                    </td><td>3                    </td><td>Sometimes            </td><td>yes                  </td><td>3                    </td><td>yes                  </td><td>3                    </td><td>0                    </td><td>Sometimes            </td><td>Public_Transportation</td><td>Normal_Weight        </td></tr>\n",
       "\t<tr><td>Male                 </td><td>23                   </td><td>1.80                 </td><td>77.0                 </td><td>yes                  </td><td>no                   </td><td>2                    </td><td>3                    </td><td>Sometimes            </td><td>no                   </td><td>2                    </td><td>no                   </td><td>2                    </td><td>1                    </td><td>Frequently           </td><td>Public_Transportation</td><td>Normal_Weight        </td></tr>\n",
       "\t<tr><td>Male                 </td><td>27                   </td><td>1.80                 </td><td>87.0                 </td><td>no                   </td><td>no                   </td><td>3                    </td><td>3                    </td><td>Sometimes            </td><td>no                   </td><td>2                    </td><td>no                   </td><td>2                    </td><td>0                    </td><td>Frequently           </td><td>Walking              </td><td>Overweight_Level_I   </td></tr>\n",
       "\t<tr><td>Male                 </td><td>22                   </td><td>1.78                 </td><td>89.8                 </td><td>no                   </td><td>no                   </td><td>2                    </td><td>1                    </td><td>Sometimes            </td><td>no                   </td><td>2                    </td><td>no                   </td><td>0                    </td><td>0                    </td><td>Sometimes            </td><td>Public_Transportation</td><td>Overweight_Level_II  </td></tr>\n",
       "\t<tr><td>Male                 </td><td>29                   </td><td>1.62                 </td><td>53.0                 </td><td>no                   </td><td>yes                  </td><td>2                    </td><td>3                    </td><td>Sometimes            </td><td>no                   </td><td>2                    </td><td>no                   </td><td>0                    </td><td>0                    </td><td>Sometimes            </td><td>Automobile           </td><td>Normal_Weight        </td></tr>\n",
       "</tbody>\n",
       "</table>\n"
      ],
      "text/latex": [
       "\\begin{tabular}{r|lllllllllllllllll}\n",
       " Gender & Age & Height & Weight & family\\_history\\_with\\_overweight & FAVC & FCVC & NCP & CAEC & SMOKE & CH2O & SCC & FAF & TUE & CALC & MTRANS & NObeyesdad\\\\\n",
       "\\hline\n",
       "\t Female                  & 21                      & 1.62                    & 64.0                    & yes                     & no                      & 2                       & 3                       & Sometimes               & no                      & 2                       & no                      & 0                       & 1                       & no                      & Public\\_Transportation & Normal\\_Weight        \\\\\n",
       "\t Female                  & 21                      & 1.52                    & 56.0                    & yes                     & no                      & 3                       & 3                       & Sometimes               & yes                     & 3                       & yes                     & 3                       & 0                       & Sometimes               & Public\\_Transportation & Normal\\_Weight        \\\\\n",
       "\t Male                    & 23                      & 1.80                    & 77.0                    & yes                     & no                      & 2                       & 3                       & Sometimes               & no                      & 2                       & no                      & 2                       & 1                       & Frequently              & Public\\_Transportation & Normal\\_Weight        \\\\\n",
       "\t Male                    & 27                      & 1.80                    & 87.0                    & no                      & no                      & 3                       & 3                       & Sometimes               & no                      & 2                       & no                      & 2                       & 0                       & Frequently              & Walking                 & Overweight\\_Level\\_I \\\\\n",
       "\t Male                    & 22                      & 1.78                    & 89.8                    & no                      & no                      & 2                       & 1                       & Sometimes               & no                      & 2                       & no                      & 0                       & 0                       & Sometimes               & Public\\_Transportation & Overweight\\_Level\\_II\\\\\n",
       "\t Male                  & 29                    & 1.62                  & 53.0                  & no                    & yes                   & 2                     & 3                     & Sometimes             & no                    & 2                     & no                    & 0                     & 0                     & Sometimes             & Automobile            & Normal\\_Weight      \\\\\n",
       "\\end{tabular}\n"
      ],
      "text/markdown": [
       "\n",
       "| Gender | Age | Height | Weight | family_history_with_overweight | FAVC | FCVC | NCP | CAEC | SMOKE | CH2O | SCC | FAF | TUE | CALC | MTRANS | NObeyesdad |\n",
       "|---|---|---|---|---|---|---|---|---|---|---|---|---|---|---|---|---|\n",
       "| Female                | 21                    | 1.62                  | 64.0                  | yes                   | no                    | 2                     | 3                     | Sometimes             | no                    | 2                     | no                    | 0                     | 1                     | no                    | Public_Transportation | Normal_Weight         |\n",
       "| Female                | 21                    | 1.52                  | 56.0                  | yes                   | no                    | 3                     | 3                     | Sometimes             | yes                   | 3                     | yes                   | 3                     | 0                     | Sometimes             | Public_Transportation | Normal_Weight         |\n",
       "| Male                  | 23                    | 1.80                  | 77.0                  | yes                   | no                    | 2                     | 3                     | Sometimes             | no                    | 2                     | no                    | 2                     | 1                     | Frequently            | Public_Transportation | Normal_Weight         |\n",
       "| Male                  | 27                    | 1.80                  | 87.0                  | no                    | no                    | 3                     | 3                     | Sometimes             | no                    | 2                     | no                    | 2                     | 0                     | Frequently            | Walking               | Overweight_Level_I    |\n",
       "| Male                  | 22                    | 1.78                  | 89.8                  | no                    | no                    | 2                     | 1                     | Sometimes             | no                    | 2                     | no                    | 0                     | 0                     | Sometimes             | Public_Transportation | Overweight_Level_II   |\n",
       "| Male                  | 29                    | 1.62                  | 53.0                  | no                    | yes                   | 2                     | 3                     | Sometimes             | no                    | 2                     | no                    | 0                     | 0                     | Sometimes             | Automobile            | Normal_Weight         |\n",
       "\n"
      ],
      "text/plain": [
       "  Gender Age Height Weight family_history_with_overweight FAVC FCVC NCP\n",
       "1 Female 21  1.62   64.0   yes                            no   2    3  \n",
       "2 Female 21  1.52   56.0   yes                            no   3    3  \n",
       "3 Male   23  1.80   77.0   yes                            no   2    3  \n",
       "4 Male   27  1.80   87.0   no                             no   3    3  \n",
       "5 Male   22  1.78   89.8   no                             no   2    1  \n",
       "6 Male   29  1.62   53.0   no                             yes  2    3  \n",
       "  CAEC      SMOKE CH2O SCC FAF TUE CALC       MTRANS               \n",
       "1 Sometimes no    2    no  0   1   no         Public_Transportation\n",
       "2 Sometimes yes   3    yes 3   0   Sometimes  Public_Transportation\n",
       "3 Sometimes no    2    no  2   1   Frequently Public_Transportation\n",
       "4 Sometimes no    2    no  2   0   Frequently Walking              \n",
       "5 Sometimes no    2    no  0   0   Sometimes  Public_Transportation\n",
       "6 Sometimes no    2    no  0   0   Sometimes  Automobile           \n",
       "  NObeyesdad         \n",
       "1 Normal_Weight      \n",
       "2 Normal_Weight      \n",
       "3 Normal_Weight      \n",
       "4 Overweight_Level_I \n",
       "5 Overweight_Level_II\n",
       "6 Normal_Weight      "
      ]
     },
     "metadata": {},
     "output_type": "display_data"
    }
   ],
   "source": [
    "head(Obesity)"
   ]
  },
  {
   "cell_type": "code",
   "execution_count": 3,
   "id": "be6fa716",
   "metadata": {},
   "outputs": [
    {
     "data": {
      "text/plain": [
       "    Gender          Age            Height          Weight      \n",
       " Female:1043   Min.   :14.00   Min.   :1.450   Min.   : 39.00  \n",
       " Male  :1068   1st Qu.:19.95   1st Qu.:1.630   1st Qu.: 65.47  \n",
       "               Median :22.78   Median :1.700   Median : 83.00  \n",
       "               Mean   :24.31   Mean   :1.702   Mean   : 86.59  \n",
       "               3rd Qu.:26.00   3rd Qu.:1.768   3rd Qu.:107.43  \n",
       "               Max.   :61.00   Max.   :1.980   Max.   :173.00  \n",
       "                                                               \n",
       " family_history_with_overweight  FAVC           FCVC            NCP       \n",
       " no : 385                       no : 245   Min.   :1.000   Min.   :1.000  \n",
       " yes:1726                       yes:1866   1st Qu.:2.000   1st Qu.:2.659  \n",
       "                                           Median :2.386   Median :3.000  \n",
       "                                           Mean   :2.419   Mean   :2.686  \n",
       "                                           3rd Qu.:3.000   3rd Qu.:3.000  \n",
       "                                           Max.   :3.000   Max.   :4.000  \n",
       "                                                                          \n",
       "         CAEC      SMOKE           CH2O        SCC            FAF        \n",
       " Always    :  53   no :2067   Min.   :1.000   no :2015   Min.   :0.0000  \n",
       " Frequently: 242   yes:  44   1st Qu.:1.585   yes:  96   1st Qu.:0.1245  \n",
       " no        :  51              Median :2.000              Median :1.0000  \n",
       " Sometimes :1765              Mean   :2.008              Mean   :1.0103  \n",
       "                              3rd Qu.:2.477              3rd Qu.:1.6667  \n",
       "                              Max.   :3.000              Max.   :3.0000  \n",
       "                                                                         \n",
       "      TUE                 CALC                        MTRANS    \n",
       " Min.   :0.0000   Always    :   1   Automobile           : 457  \n",
       " 1st Qu.:0.0000   Frequently:  70   Bike                 :   7  \n",
       " Median :0.6253   no        : 639   Motorbike            :  11  \n",
       " Mean   :0.6579   Sometimes :1401   Public_Transportation:1580  \n",
       " 3rd Qu.:1.0000                     Walking              :  56  \n",
       " Max.   :2.0000                                                 \n",
       "                                                                \n",
       "               NObeyesdad \n",
       " Insufficient_Weight:272  \n",
       " Normal_Weight      :287  \n",
       " Obesity_Type_I     :351  \n",
       " Obesity_Type_II    :297  \n",
       " Obesity_Type_III   :324  \n",
       " Overweight_Level_I :290  \n",
       " Overweight_Level_II:290  "
      ]
     },
     "metadata": {},
     "output_type": "display_data"
    }
   ],
   "source": [
    "summary(Obesity)"
   ]
  },
  {
   "cell_type": "code",
   "execution_count": 4,
   "id": "70d4456a",
   "metadata": {},
   "outputs": [
    {
     "name": "stdout",
     "output_type": "stream",
     "text": [
      "package 'FactoClass' successfully unpacked and MD5 sums checked\n",
      "\n",
      "The downloaded binary packages are in\n",
      "\tC:\\Users\\marla\\AppData\\Local\\Temp\\Rtmp8skSCM\\downloaded_packages\n"
     ]
    }
   ],
   "source": [
    "install.packages(\"FactoClass\")"
   ]
  },
  {
   "cell_type": "code",
   "execution_count": 5,
   "id": "d9bf1b65",
   "metadata": {},
   "outputs": [
    {
     "name": "stderr",
     "output_type": "stream",
     "text": [
      "Warning message:\n",
      "\"package 'FactoClass' was built under R version 3.6.3\"Loading required package: ade4\n",
      "Warning message:\n",
      "\"package 'ade4' was built under R version 3.6.3\"Loading required package: ggplot2\n",
      "Registered S3 methods overwritten by 'ggplot2':\n",
      "  method         from \n",
      "  [.quosures     rlang\n",
      "  c.quosures     rlang\n",
      "  print.quosures rlang\n",
      "Loading required package: ggrepel\n",
      "Warning message:\n",
      "\"package 'ggrepel' was built under R version 3.6.3\"Loading required package: xtable\n",
      "Loading required package: scatterplot3d\n"
     ]
    }
   ],
   "source": [
    "library(FactoClass)"
   ]
  },
  {
   "cell_type": "code",
   "execution_count": 6,
   "id": "d0485954",
   "metadata": {},
   "outputs": [
    {
     "data": {
      "image/png": "[encoded data removed]",
      "text/plain": [
       "plot without title"
      ]
     },
     "metadata": {},
     "output_type": "display_data"
    }
   ],
   "source": [
    "par(las=1, mfrow=c(1,5), mai = c(0.6,0.5,0.2,0.1))\n",
    "for (i in c(1,5,6,9,10)){\n",
    "cat <- attributes(Obesity[,i])$levels;\n",
    "  per<-tabulate(Obesity[,i])/445*100;\n",
    "   pl <-plot(Obesity[,i], horiz= TRUE, col=gray(seq(1.0,0.9,\n",
    "       length = length(cat))), ylim =c(0,8),\n",
    "             xlim=c(0,400), xlab= colnames(Obesity)[i]);\n",
    "    text(160,pl,round(per,1),cex=0.8, pos=4);\n",
    "}\n"
   ]
  },
  {
   "cell_type": "code",
   "execution_count": 2,
   "id": "69b8f568",
   "metadata": {},
   "outputs": [
    {
     "name": "stdout",
     "output_type": "stream",
     "text": [
      "package 'sqldf' successfully unpacked and MD5 sums checked\n",
      "\n",
      "The downloaded binary packages are in\n",
      "\tC:\\Users\\marla\\AppData\\Local\\Temp\\RtmpuGSlbx\\downloaded_packages\n"
     ]
    }
   ],
   "source": [
    "install.packages(\"sqldf\")"
   ]
  },
  {
   "cell_type": "code",
   "execution_count": 8,
   "id": "19f428cc",
   "metadata": {},
   "outputs": [
    {
     "name": "stderr",
     "output_type": "stream",
     "text": [
      "Warning message:\n",
      "\"package 'sqldf' was built under R version 3.6.3\"Loading required package: gsubfn\n",
      "Warning message:\n",
      "\"package 'gsubfn' was built under R version 3.6.3\"Loading required package: proto\n",
      "Warning message:\n",
      "\"package 'proto' was built under R version 3.6.3\"Loading required package: RSQLite\n",
      "Warning message:\n",
      "\"package 'RSQLite' was built under R version 3.6.3\""
     ]
    },
    {
     "data": {
      "text/html": [
       "<table>\n",
       "<thead><tr><th scope=col>count(*)</th></tr></thead>\n",
       "<tbody>\n",
       "\t<tr><td>2111</td></tr>\n",
       "</tbody>\n",
       "</table>\n"
      ],
      "text/latex": [
       "\\begin{tabular}{r|l}\n",
       " count(*)\\\\\n",
       "\\hline\n",
       "\t 2111\\\\\n",
       "\\end{tabular}\n"
      ],
      "text/markdown": [
       "\n",
       "| count(*) |\n",
       "|---|\n",
       "| 2111 |\n",
       "\n"
      ],
      "text/plain": [
       "  count(*)\n",
       "1 2111    "
      ]
     },
     "metadata": {},
     "output_type": "display_data"
    }
   ],
   "source": [
    "library(sqldf)\n",
    "sqldf('select count(*) from Obesity')"
   ]
  },
  {
   "cell_type": "code",
   "execution_count": 1,
   "id": "3f952a1f",
   "metadata": {},
   "outputs": [
    {
     "name": "stdout",
     "output_type": "stream",
     "text": [
      "package 'sqldf' successfully unpacked and MD5 sums checked\n",
      "\n",
      "The downloaded binary packages are in\n",
      "\tC:\\Users\\marla\\AppData\\Local\\Temp\\RtmpcdnFPa\\downloaded_packages\n"
     ]
    },
    {
     "name": "stderr",
     "output_type": "stream",
     "text": [
      "Warning message:\n",
      "\"package 'sqldf' was built under R version 3.6.3\"Loading required package: gsubfn\n",
      "Warning message:\n",
      "\"package 'gsubfn' was built under R version 3.6.3\"Loading required package: proto\n",
      "Warning message:\n",
      "\"package 'proto' was built under R version 3.6.3\"Loading required package: RSQLite\n",
      "Warning message:\n",
      "\"package 'RSQLite' was built under R version 3.6.3\""
     ]
    }
   ],
   "source": [
    "Obesity <- read.csv(file = 'C:\\\\Users\\\\marla\\\\Documents\\\\Proyecto R\\\\Obesity.csv')\n",
    "install.packages(\"sqldf\")\n",
    "library(sqldf)\n",
    "Obesity2 <- sqldf('select case \n",
    "when MTRANS = \"Bike\" or MTRANS= \"Walking\" then \"No_transportation\"\n",
    "when MTRANS = \"Public_Transportation\" or MTRANS= \"Motorbike\" or MTRANS= \"Automobile\" then \"with_transportation\"\n",
    " end as \"Transportation\",\n",
    "case \n",
    "when NObeyesdad= \"Obesity_Type_II\" or NObeyesdad= \"Obesity_Type_I\" or NObeyesdad= \"Obesity_Type_III\" then \"Obesity\"\n",
    "when NObeyesdad= \"Normal_Weight\" then \"Normal\" \n",
    "when NObeyesdad= \"Insufficient_Weight\" then \"Insufficient\" \n",
    "when NObeyesdad= \"Overweight_Level_I\" or NObeyesdad= \"Overweight_Level_II\" then \"Overweight\" end as \"ObesityType\"\n",
    ", * from Obesity ')"
   ]
  },
  {
   "cell_type": "code",
   "execution_count": 6,
   "id": "bd8d8ddd",
   "metadata": {},
   "outputs": [
    {
     "name": "stderr",
     "output_type": "stream",
     "text": [
      "Warning message in result_fetch(res@ptr, n = n):\n",
      "\"SQL statements must be issued with dbExecute() or dbSendStatement() instead of dbGetQuery() or dbSendQuery().\""
     ]
    }
   ],
   "source": [
    "Obesity3 <- sqldf('alter table Obesity2 drop MTRANS')"
   ]
  },
  {
   "cell_type": "code",
   "execution_count": 3,
   "id": "a66ee564",
   "metadata": {},
   "outputs": [
    {
     "data": {
      "text/html": [
       "<table>\n",
       "<thead><tr><th scope=col>Transportation</th><th scope=col>ObesityType</th><th scope=col>Gender</th><th scope=col>Age</th><th scope=col>Height</th><th scope=col>Weight</th><th scope=col>family_history_with_overweight</th><th scope=col>FAVC</th><th scope=col>FCVC</th><th scope=col>NCP</th><th scope=col>CAEC</th><th scope=col>SMOKE</th><th scope=col>CH2O</th><th scope=col>SCC</th><th scope=col>FAF</th><th scope=col>TUE</th><th scope=col>CALC</th><th scope=col>MTRANS</th><th scope=col>NObeyesdad</th></tr></thead>\n",
       "<tbody>\n",
       "\t<tr><td>with_transportation  </td><td>Normal               </td><td>Female               </td><td>21                   </td><td>1.62                 </td><td>64.0                 </td><td>yes                  </td><td>no                   </td><td>2                    </td><td>3                    </td><td>Sometimes            </td><td>no                   </td><td>2                    </td><td>no                   </td><td>0                    </td><td>1                    </td><td>no                   </td><td>Public_Transportation</td><td>Normal_Weight        </td></tr>\n",
       "\t<tr><td>with_transportation  </td><td>Normal               </td><td>Female               </td><td>21                   </td><td>1.52                 </td><td>56.0                 </td><td>yes                  </td><td>no                   </td><td>3                    </td><td>3                    </td><td>Sometimes            </td><td>yes                  </td><td>3                    </td><td>yes                  </td><td>3                    </td><td>0                    </td><td>Sometimes            </td><td>Public_Transportation</td><td>Normal_Weight        </td></tr>\n",
       "\t<tr><td>with_transportation  </td><td>Normal               </td><td>Male                 </td><td>23                   </td><td>1.80                 </td><td>77.0                 </td><td>yes                  </td><td>no                   </td><td>2                    </td><td>3                    </td><td>Sometimes            </td><td>no                   </td><td>2                    </td><td>no                   </td><td>2                    </td><td>1                    </td><td>Frequently           </td><td>Public_Transportation</td><td>Normal_Weight        </td></tr>\n",
       "\t<tr><td>No_transportation    </td><td>Overweight           </td><td>Male                 </td><td>27                   </td><td>1.80                 </td><td>87.0                 </td><td>no                   </td><td>no                   </td><td>3                    </td><td>3                    </td><td>Sometimes            </td><td>no                   </td><td>2                    </td><td>no                   </td><td>2                    </td><td>0                    </td><td>Frequently           </td><td>Walking              </td><td>Overweight_Level_I   </td></tr>\n",
       "\t<tr><td>with_transportation  </td><td>Overweight           </td><td>Male                 </td><td>22                   </td><td>1.78                 </td><td>89.8                 </td><td>no                   </td><td>no                   </td><td>2                    </td><td>1                    </td><td>Sometimes            </td><td>no                   </td><td>2                    </td><td>no                   </td><td>0                    </td><td>0                    </td><td>Sometimes            </td><td>Public_Transportation</td><td>Overweight_Level_II  </td></tr>\n",
       "\t<tr><td>with_transportation  </td><td>Normal               </td><td>Male                 </td><td>29                   </td><td>1.62                 </td><td>53.0                 </td><td>no                   </td><td>yes                  </td><td>2                    </td><td>3                    </td><td>Sometimes            </td><td>no                   </td><td>2                    </td><td>no                   </td><td>0                    </td><td>0                    </td><td>Sometimes            </td><td>Automobile           </td><td>Normal_Weight        </td></tr>\n",
       "</tbody>\n",
       "</table>\n"
      ],
      "text/latex": [
       "\\begin{tabular}{r|lllllllllllllllllll}\n",
       " Transportation & ObesityType & Gender & Age & Height & Weight & family\\_history\\_with\\_overweight & FAVC & FCVC & NCP & CAEC & SMOKE & CH2O & SCC & FAF & TUE & CALC & MTRANS & NObeyesdad\\\\\n",
       "\\hline\n",
       "\t with\\_transportation   & Normal                  & Female                  & 21                      & 1.62                    & 64.0                    & yes                     & no                      & 2                       & 3                       & Sometimes               & no                      & 2                       & no                      & 0                       & 1                       & no                      & Public\\_Transportation & Normal\\_Weight        \\\\\n",
       "\t with\\_transportation   & Normal                  & Female                  & 21                      & 1.52                    & 56.0                    & yes                     & no                      & 3                       & 3                       & Sometimes               & yes                     & 3                       & yes                     & 3                       & 0                       & Sometimes               & Public\\_Transportation & Normal\\_Weight        \\\\\n",
       "\t with\\_transportation   & Normal                  & Male                    & 23                      & 1.80                    & 77.0                    & yes                     & no                      & 2                       & 3                       & Sometimes               & no                      & 2                       & no                      & 2                       & 1                       & Frequently              & Public\\_Transportation & Normal\\_Weight        \\\\\n",
       "\t No\\_transportation     & Overweight              & Male                    & 27                      & 1.80                    & 87.0                    & no                      & no                      & 3                       & 3                       & Sometimes               & no                      & 2                       & no                      & 2                       & 0                       & Frequently              & Walking                 & Overweight\\_Level\\_I \\\\\n",
       "\t with\\_transportation   & Overweight              & Male                    & 22                      & 1.78                    & 89.8                    & no                      & no                      & 2                       & 1                       & Sometimes               & no                      & 2                       & no                      & 0                       & 0                       & Sometimes               & Public\\_Transportation & Overweight\\_Level\\_II\\\\\n",
       "\t with\\_transportation & Normal                & Male                  & 29                    & 1.62                  & 53.0                  & no                    & yes                   & 2                     & 3                     & Sometimes             & no                    & 2                     & no                    & 0                     & 0                     & Sometimes             & Automobile            & Normal\\_Weight      \\\\\n",
       "\\end{tabular}\n"
      ],
      "text/markdown": [
       "\n",
       "| Transportation | ObesityType | Gender | Age | Height | Weight | family_history_with_overweight | FAVC | FCVC | NCP | CAEC | SMOKE | CH2O | SCC | FAF | TUE | CALC | MTRANS | NObeyesdad |\n",
       "|---|---|---|---|---|---|---|---|---|---|---|---|---|---|---|---|---|---|---|\n",
       "| with_transportation   | Normal                | Female                | 21                    | 1.62                  | 64.0                  | yes                   | no                    | 2                     | 3                     | Sometimes             | no                    | 2                     | no                    | 0                     | 1                     | no                    | Public_Transportation | Normal_Weight         |\n",
       "| with_transportation   | Normal                | Female                | 21                    | 1.52                  | 56.0                  | yes                   | no                    | 3                     | 3                     | Sometimes             | yes                   | 3                     | yes                   | 3                     | 0                     | Sometimes             | Public_Transportation | Normal_Weight         |\n",
       "| with_transportation   | Normal                | Male                  | 23                    | 1.80                  | 77.0                  | yes                   | no                    | 2                     | 3                     | Sometimes             | no                    | 2                     | no                    | 2                     | 1                     | Frequently            | Public_Transportation | Normal_Weight         |\n",
       "| No_transportation     | Overweight            | Male                  | 27                    | 1.80                  | 87.0                  | no                    | no                    | 3                     | 3                     | Sometimes             | no                    | 2                     | no                    | 2                     | 0                     | Frequently            | Walking               | Overweight_Level_I    |\n",
       "| with_transportation   | Overweight            | Male                  | 22                    | 1.78                  | 89.8                  | no                    | no                    | 2                     | 1                     | Sometimes             | no                    | 2                     | no                    | 0                     | 0                     | Sometimes             | Public_Transportation | Overweight_Level_II   |\n",
       "| with_transportation   | Normal                | Male                  | 29                    | 1.62                  | 53.0                  | no                    | yes                   | 2                     | 3                     | Sometimes             | no                    | 2                     | no                    | 0                     | 0                     | Sometimes             | Automobile            | Normal_Weight         |\n",
       "\n"
      ],
      "text/plain": [
       "  Transportation      ObesityType Gender Age Height Weight\n",
       "1 with_transportation Normal      Female 21  1.62   64.0  \n",
       "2 with_transportation Normal      Female 21  1.52   56.0  \n",
       "3 with_transportation Normal      Male   23  1.80   77.0  \n",
       "4 No_transportation   Overweight  Male   27  1.80   87.0  \n",
       "5 with_transportation Overweight  Male   22  1.78   89.8  \n",
       "6 with_transportation Normal      Male   29  1.62   53.0  \n",
       "  family_history_with_overweight FAVC FCVC NCP CAEC      SMOKE CH2O SCC FAF TUE\n",
       "1 yes                            no   2    3   Sometimes no    2    no  0   1  \n",
       "2 yes                            no   3    3   Sometimes yes   3    yes 3   0  \n",
       "3 yes                            no   2    3   Sometimes no    2    no  2   1  \n",
       "4 no                             no   3    3   Sometimes no    2    no  2   0  \n",
       "5 no                             no   2    1   Sometimes no    2    no  0   0  \n",
       "6 no                             yes  2    3   Sometimes no    2    no  0   0  \n",
       "  CALC       MTRANS                NObeyesdad         \n",
       "1 no         Public_Transportation Normal_Weight      \n",
       "2 Sometimes  Public_Transportation Normal_Weight      \n",
       "3 Frequently Public_Transportation Normal_Weight      \n",
       "4 Frequently Walking               Overweight_Level_I \n",
       "5 Sometimes  Public_Transportation Overweight_Level_II\n",
       "6 Sometimes  Automobile            Normal_Weight      "
      ]
     },
     "metadata": {},
     "output_type": "display_data"
    }
   ],
   "source": [
    "head(Obesity2)"
   ]
  },
  {
   "cell_type": "code",
   "execution_count": 4,
   "id": "8e2eb056",
   "metadata": {},
   "outputs": [
    {
     "data": {
      "text/plain": [
       " Transportation     ObesityType           Gender          Age       \n",
       " Length:2111        Length:2111        Female:1043   Min.   :14.00  \n",
       " Class :character   Class :character   Male  :1068   1st Qu.:19.95  \n",
       " Mode  :character   Mode  :character                 Median :22.78  \n",
       "                                                     Mean   :24.31  \n",
       "                                                     3rd Qu.:26.00  \n",
       "                                                     Max.   :61.00  \n",
       "                                                                    \n",
       "     Height          Weight       family_history_with_overweight  FAVC     \n",
       " Min.   :1.450   Min.   : 39.00   no : 385                       no : 245  \n",
       " 1st Qu.:1.630   1st Qu.: 65.47   yes:1726                       yes:1866  \n",
       " Median :1.700   Median : 83.00                                            \n",
       " Mean   :1.702   Mean   : 86.59                                            \n",
       " 3rd Qu.:1.768   3rd Qu.:107.43                                            \n",
       " Max.   :1.980   Max.   :173.00                                            \n",
       "                                                                           \n",
       "      FCVC            NCP                CAEC      SMOKE           CH2O      \n",
       " Min.   :1.000   Min.   :1.000   Always    :  53   no :2067   Min.   :1.000  \n",
       " 1st Qu.:2.000   1st Qu.:2.659   Frequently: 242   yes:  44   1st Qu.:1.585  \n",
       " Median :2.386   Median :3.000   no        :  51              Median :2.000  \n",
       " Mean   :2.419   Mean   :2.686   Sometimes :1765              Mean   :2.008  \n",
       " 3rd Qu.:3.000   3rd Qu.:3.000                                3rd Qu.:2.477  \n",
       " Max.   :3.000   Max.   :4.000                                Max.   :3.000  \n",
       "                                                                             \n",
       "  SCC            FAF              TUE                 CALC     \n",
       " no :2015   Min.   :0.0000   Min.   :0.0000   Always    :   1  \n",
       " yes:  96   1st Qu.:0.1245   1st Qu.:0.0000   Frequently:  70  \n",
       "            Median :1.0000   Median :0.6253   no        : 639  \n",
       "            Mean   :1.0103   Mean   :0.6579   Sometimes :1401  \n",
       "            3rd Qu.:1.6667   3rd Qu.:1.0000                    \n",
       "            Max.   :3.0000   Max.   :2.0000                    \n",
       "                                                               \n",
       "                   MTRANS                   NObeyesdad \n",
       " Automobile           : 457   Insufficient_Weight:272  \n",
       " Bike                 :   7   Normal_Weight      :287  \n",
       " Motorbike            :  11   Obesity_Type_I     :351  \n",
       " Public_Transportation:1580   Obesity_Type_II    :297  \n",
       " Walking              :  56   Obesity_Type_III   :324  \n",
       "                              Overweight_Level_I :290  \n",
       "                              Overweight_Level_II:290  "
      ]
     },
     "metadata": {},
     "output_type": "display_data"
    }
   ],
   "source": [
    "summary(Obesity2)"
   ]
  }
 ],
 "metadata": {
  "kernelspec": {
   "display_name": "R",
   "language": "R",
   "name": "ir"
  },
  "language_info": {
   "codemirror_mode": "r",
   "file_extension": ".r",
   "mimetype": "text/x-r-source",
   "name": "R",
   "pygments_lexer": "r",
   "version": "3.6.1"
  }
 },
 "nbformat": 4,
 "nbformat_minor": 5
}
